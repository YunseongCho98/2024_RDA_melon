{
 "cells": [
  {
   "cell_type": "markdown",
   "metadata": {},
   "source": [
    "hi"
   ]
  },
  {
   "cell_type": "code",
   "execution_count": 1,
   "metadata": {},
   "outputs": [
    {
     "name": "stdout",
     "output_type": "stream",
     "text": [
      "CCTV\n",
      "검증이미지\n",
      "과실비대기\n",
      "네트완성기\n",
      "네트형성초기\n",
      "네트형성후기\n",
      "수확기\n",
      "착과기\n",
      "['CCTV', '검증이미지', '과실비대기', '네트완성기', '네트형성초기', '네트형성후기', '수확기', '착과기']\n"
     ]
    }
   ],
   "source": [
    "from pathlib import Path\n",
    "\n",
    "directory = Path(r\"C:\\Users\\Jason\\Downloads\\drive-download-20240310T140536Z-001\")\n",
    "\n",
    "def print_directory_contents(path):\n",
    "    for child in path.iterdir():\n",
    "        if child.is_dir():\n",
    "            print(child.name)\n",
    "\n",
    "print_directory_contents(directory)\n",
    "\n",
    "def get_folder_names(path):\n",
    "    folder_names = []\n",
    "    for child in path.iterdir():\n",
    "        if child.is_dir():\n",
    "            folder_names.append(child.name)\n",
    "    return folder_names\n",
    "\n",
    "print(get_folder_names(directory))"
   ]
  },
  {
   "cell_type": "markdown",
   "metadata": {},
   "source": [
    "네트형성초기 이미지 로딩"
   ]
  },
  {
   "cell_type": "code",
   "execution_count": 2,
   "metadata": {},
   "outputs": [
    {
     "name": "stdout",
     "output_type": "stream",
     "text": [
      "Loaded 363 images.\n"
     ]
    }
   ],
   "source": [
    "from pathlib import Path\n",
    "from PIL import Image\n",
    "\n",
    "directory = Path(r\"C:\\Users\\Jason\\Downloads\\drive-download-20240310T140536Z-001\\네트형성초기\")\n",
    "\n",
    "def load_image_dataset(path):\n",
    "    image_dataset = []\n",
    "    allowed_extensions = ['.jpg', '.jpeg', '.png']  # 허용된 이미지 확장자들\n",
    "\n",
    "    for file in path.iterdir():\n",
    "        if file.is_file() and file.suffix.lower() in allowed_extensions:\n",
    "            try:\n",
    "                img = Image.open(file)\n",
    "                image_dataset.append(img)\n",
    "            except Exception as e:\n",
    "                print(f\"Error loading image: {str(e)}\")\n",
    "\n",
    "    return image_dataset\n",
    "\n",
    "image_dataset = load_image_dataset(directory)\n",
    "print(f\"Loaded {len(image_dataset)} images.\")"
   ]
  },
  {
   "cell_type": "code",
   "execution_count": null,
   "metadata": {},
   "outputs": [],
   "source": []
  }
 ],
 "metadata": {
  "kernelspec": {
   "display_name": "base",
   "language": "python",
   "name": "python3"
  },
  "language_info": {
   "codemirror_mode": {
    "name": "ipython",
    "version": 3
   },
   "file_extension": ".py",
   "mimetype": "text/x-python",
   "name": "python",
   "nbconvert_exporter": "python",
   "pygments_lexer": "ipython3",
   "version": "3.12.2"
  }
 },
 "nbformat": 4,
 "nbformat_minor": 2
}
